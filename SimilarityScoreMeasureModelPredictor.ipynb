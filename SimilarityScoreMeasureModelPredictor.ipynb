{
 "cells": [
  {
   "cell_type": "markdown",
   "id": "9f1a93a4",
   "metadata": {},
   "source": [
    "# Modelo de Machine Learning para predecir el porcentaje de Similitud en datos. "
   ]
  },
  {
   "cell_type": "markdown",
   "id": "bae31f18",
   "metadata": {},
   "source": [
    "## SoftConsulting SA."
   ]
  },
  {
   "cell_type": "markdown",
   "id": "6b81f1d3",
   "metadata": {},
   "source": [
    "### Autor: Isaac Reyes"
   ]
  },
  {
   "cell_type": "markdown",
   "id": "e0b5de4a",
   "metadata": {},
   "source": [
    "#### Librerias embeddings, transformers, etc pre instaladas:"
   ]
  },
  {
   "cell_type": "code",
   "execution_count": 1,
   "id": "1cb3eb1e",
   "metadata": {},
   "outputs": [
    {
     "name": "stdout",
     "output_type": "stream",
     "text": [
      "WARNING:tensorflow:From C:\\Users\\Isaac\\AppData\\Roaming\\Python\\Python312\\site-packages\\tf_keras\\src\\losses.py:2976: The name tf.losses.sparse_softmax_cross_entropy is deprecated. Please use tf.compat.v1.losses.sparse_softmax_cross_entropy instead.\n",
      "\n"
     ]
    }
   ],
   "source": [
    "import random\n",
    "import pandas as pd\n",
    "import numpy as np\n",
    "from sentence_transformers import SentenceTransformer\n",
    "from sklearn.metrics.pairwise import cosine_similarity\n",
    "from sklearn.model_selection import train_test_split\n",
    "from sklearn.metrics import accuracy_score"
   ]
  },
  {
   "cell_type": "markdown",
   "id": "6621a0f2",
   "metadata": {},
   "source": [
    "##### Usar GPU"
   ]
  },
  {
   "cell_type": "code",
   "execution_count": 2,
   "id": "3a0cb7d3",
   "metadata": {},
   "outputs": [
    {
     "name": "stdout",
     "output_type": "stream",
     "text": [
      "Usando device: cpu\n"
     ]
    }
   ],
   "source": [
    "#GPU si está disponible\n",
    "device = 'cuda' if SentenceTransformer().device.type == 'cuda' else 'cpu'\n",
    "print(f\"Usando device: {device}\")"
   ]
  },
  {
   "cell_type": "markdown",
   "id": "96cb89e2",
   "metadata": {},
   "source": [
    "###### CODIGO"
   ]
  },
  {
   "cell_type": "code",
   "execution_count": null,
   "id": "e0366ebe",
   "metadata": {},
   "outputs": [
    {
     "name": "stdout",
     "output_type": "stream",
     "text": [
      "DataFrame 1 (sinónimos):\n",
      "                   ramo                                        concatenado\n",
      "0             VEHICULOS  inclusion vehiculos; inclusion autos; inclusio...\n",
      "1  EQUIPOS ELECTRONICOS  inclusion equipos electronicos; inclusion EE; ... \n",
      "\n"
     ]
    }
   ],
   "source": [
    "#2.Definir tus grupos de sinónimos (DataFrame 1 sintético)\n",
    "ramo_dic = {\n",
    "    \"VEHICULOS\": [\n",
    "        \"inclusion vehiculos\",\n",
    "        \"inclusion autos\",\n",
    "        \"inclusion coches\",\n",
    "        \"inclusion carros\"\n",
    "    ],\n",
    "    \"EQUIPOS ELECTRONICOS\": [\n",
    "        \"inclusion equipos electronicos\",\n",
    "        \"inclusion EE\",\n",
    "        \"inclusion E Equipos\",\n",
    "        \"inclusion equip e\",\n",
    "        \"inclusion equipos electr\"\n",
    "    ],\n",
    "    #aqui para mas ejemplos con zURICH más ramas aquí...\n",
    "}\n",
    "#df1:cada fila es un ramo con su lista concatenada\n",
    "rows = []\n",
    "for ramo, opts in ramo_dic.items():\n",
    "    rows.append({\n",
    "        \"ramo\": ramo,\n",
    "        \"concatenado\": \"; \".join(opts)\n",
    "    })\n",
    "df1 = pd.DataFrame(rows)\n",
    "print(\"DataFrame 1 (sinónimos):\")\n",
    "print(df1, \"\\n\")"
   ]
  },
  {
   "cell_type": "code",
   "execution_count": 4,
   "id": "ec16506e",
   "metadata": {},
   "outputs": [
    {
     "name": "stdout",
     "output_type": "stream",
     "text": [
      "DataFrame 2 (Asuntos):\n",
      "                                              Asunto             ramo_true\n",
      "0  Por favor ayudar con el trámite inclusion equi...  EQUIPOS ELECTRONICOS\n",
      "1                      Solicitud de inclusion carros             VEHICULOS\n",
      "2          Necesito asistencia para inclusion coches             VEHICULOS\n",
      "3             ¿Pueden gestionar inclusion vehiculos?             VEHICULOS\n",
      "4         Necesito asistencia para inclusion equip e  EQUIPOS ELECTRONICOS \n",
      "\n"
     ]
    }
   ],
   "source": [
    "#3. Generar DataFrame 2 (Asuntos sintéticos) con la etiqueta de ramo\n",
    "def make_subject(ramo, opts):\n",
    "    #aleatoriamente un sinónimo y lo inserta en una frase\n",
    "    ejemplo = random.choice(opts)\n",
    "    templates = [\n",
    "        f\"Por favor ayudar con el trámite {ejemplo}\",\n",
    "        f\"Solicitud de {ejemplo}\",\n",
    "        f\"Necesito asistencia para {ejemplo}\",\n",
    "        f\"¿Pueden gestionar {ejemplo}?\"\n",
    "    ]\n",
    "    return random.choice(templates)\n",
    "\n",
    "n_per_group = 500  #total +1000 ejemplos\n",
    "rows2 = []\n",
    "for ramo, opts in ramo_dic.items():\n",
    "    for _ in range(n_per_group):\n",
    "        subj = make_subject(ramo, opts)\n",
    "        rows2.append({\n",
    "            \"Asunto\": subj,\n",
    "            \"ramo_true\": ramo\n",
    "        })\n",
    "# añadir negativos (otros asuntos que no coinciden) si quieres\n",
    "df2 = pd.DataFrame(rows2).sample(frac=1).reset_index(drop=True)\n",
    "print(\"DataFrame 2 (Asuntos):\")\n",
    "print(df2.head(), \"\\n\")\n"
   ]
  },
  {
   "cell_type": "code",
   "execution_count": 5,
   "id": "beedd420",
   "metadata": {},
   "outputs": [],
   "source": [
    "#4.Cargar modelo de embeddings\n",
    "model = SentenceTransformer('all-MiniLM-L6-v2', device=device)"
   ]
  },
  {
   "cell_type": "code",
   "execution_count": 7,
   "id": "c55e3d43",
   "metadata": {},
   "outputs": [
    {
     "data": {
      "application/vnd.jupyter.widget-view+json": {
       "model_id": "4a2e33b0e17f46318a1fe09168db7dfd",
       "version_major": 2,
       "version_minor": 0
      },
      "text/plain": [
       "Batches:   0%|          | 0/1 [00:00<?, ?it/s]"
      ]
     },
     "metadata": {},
     "output_type": "display_data"
    },
    {
     "data": {
      "application/vnd.jupyter.widget-view+json": {
       "model_id": "f6c26787ba414153af0407b4489d9181",
       "version_major": 2,
       "version_minor": 0
      },
      "text/plain": [
       "Batches:   0%|          | 0/32 [00:00<?, ?it/s]"
      ]
     },
     "metadata": {},
     "output_type": "display_data"
    }
   ],
   "source": [
    "#5. Obtener embeddings\n",
    "emb_df1 = model.encode(df1['concatenado'].tolist(), convert_to_numpy=True, show_progress_bar=True)\n",
    "emb_df2 = model.encode(df2['Asunto'].tolist(), convert_to_numpy=True, show_progress_bar=True)"
   ]
  },
  {
   "cell_type": "code",
   "execution_count": 8,
   "id": "f8f858b4",
   "metadata": {},
   "outputs": [],
   "source": [
    "#6.Para cada Asunto, calcular similitud contra cada concatenado y predecir ramo\n",
    "sims = cosine_similarity(emb_df2, emb_df1)  #shape (len(df2), len(df1))\n",
    "pred_indices = np.argmax(sims, axis=1)\n",
    "df2['ramo_pred'] = df1.loc[pred_indices, 'ramo'].values\n",
    "df2['sim_max'] = sims[np.arange(len(df2)), pred_indices]"
   ]
  },
  {
   "cell_type": "code",
   "execution_count": 9,
   "id": "e2db2a7f",
   "metadata": {},
   "outputs": [
    {
     "name": "stdout",
     "output_type": "stream",
     "text": [
      "Accuracy sintético: 88.80%\n"
     ]
    }
   ],
   "source": [
    "#7.Evaluar precisión en sintético\n",
    "acc = accuracy_score(df2['ramo_true'], df2['ramo_pred'])\n",
    "print(f\"Accuracy sintético: {acc*100:.2f}%\")"
   ]
  },
  {
   "cell_type": "code",
   "execution_count": 9,
   "id": "2dd680cf",
   "metadata": {},
   "outputs": [
    {
     "name": "stdout",
     "output_type": "stream",
     "text": [
      "\n",
      "Algunos ejemplos de predicción:\n",
      "                                              Asunto             ramo_true  \\\n",
      "0  Por favor ayudar con el trámite inclusion equi...  EQUIPOS ELECTRONICOS   \n",
      "1                      Solicitud de inclusion carros             VEHICULOS   \n",
      "2          Necesito asistencia para inclusion coches             VEHICULOS   \n",
      "3             ¿Pueden gestionar inclusion vehiculos?             VEHICULOS   \n",
      "4         Necesito asistencia para inclusion equip e  EQUIPOS ELECTRONICOS   \n",
      "5             ¿Pueden gestionar inclusion E Equipos?  EQUIPOS ELECTRONICOS   \n",
      "6  Por favor ayudar con el trámite inclusion equi...  EQUIPOS ELECTRONICOS   \n",
      "7                      Solicitud de inclusion carros             VEHICULOS   \n",
      "8              Solicitud de inclusion equipos electr  EQUIPOS ELECTRONICOS   \n",
      "9  Necesito asistencia para inclusion equipos ele...  EQUIPOS ELECTRONICOS   \n",
      "\n",
      "              ramo_pred   sim_max  \n",
      "0  EQUIPOS ELECTRONICOS  0.437551  \n",
      "1             VEHICULOS  0.600696  \n",
      "2             VEHICULOS  0.578630  \n",
      "3             VEHICULOS  0.575772  \n",
      "4  EQUIPOS ELECTRONICOS  0.515337  \n",
      "5  EQUIPOS ELECTRONICOS  0.481203  \n",
      "6  EQUIPOS ELECTRONICOS  0.437551  \n",
      "7             VEHICULOS  0.600696  \n",
      "8  EQUIPOS ELECTRONICOS  0.700329  \n",
      "9  EQUIPOS ELECTRONICOS  0.757852  \n"
     ]
    }
   ],
   "source": [
    "#8. Mostrar ejemplos\n",
    "print(\"\\nAlgunos ejemplos de predicción:\")\n",
    "print(df2[['Asunto', 'ramo_true', 'ramo_pred', 'sim_max']].head(10))"
   ]
  },
  {
   "cell_type": "code",
   "execution_count": 10,
   "id": "6fadeaae",
   "metadata": {},
   "outputs": [
    {
     "name": "stdout",
     "output_type": "stream",
     "text": [
      "\n",
      "Predicción sobre nuevos Asuntos:\n",
      "                                  Asunto  ramo_pred  sim_max (%)\n",
      "0  Ayuda urgente para inclusion de autos  VEHICULOS    61.228347\n",
      "1       Por favor gestionar inclusion EE  VEHICULOS    42.351627\n",
      "2            Consulta sobre otro trámite  VEHICULOS    25.141025\n"
     ]
    }
   ],
   "source": [
    "#9. Función para consultar nuevos asuntos\n",
    "def predict_similaridad(asuntos:list):\n",
    "    emb_new = model.encode(asuntos, convert_to_numpy=True)\n",
    "    sim_matrix = cosine_similarity(emb_new, emb_df1)\n",
    "    results = []\n",
    "    for i, asunto in enumerate(asuntos):\n",
    "        idx = np.argmax(sim_matrix[i])\n",
    "        results.append({\n",
    "            \"Asunto\": asunto,\n",
    "            \"ramo_pred\": df1.loc[idx, 'ramo'],\n",
    "            \"sim_max (%)\": sim_matrix[i, idx]*100\n",
    "        })\n",
    "    return pd.DataFrame(results)\n",
    "\n",
    "#Ejemplo de uso\n",
    "nuevos = [\n",
    "    \"Ayuda urgente para inclusion de autos\",\n",
    "    \"Por favor gestionar inclusion EE\",\n",
    "    \"Consulta sobre otro trámite\"\n",
    "]\n",
    "print(\"\\nPredicción sobre nuevos Asuntos:\")\n",
    "print(predict_similaridad(nuevos))"
   ]
  }
 ],
 "metadata": {
  "kernelspec": {
   "display_name": "Python 3",
   "language": "python",
   "name": "python3"
  },
  "language_info": {
   "codemirror_mode": {
    "name": "ipython",
    "version": 3
   },
   "file_extension": ".py",
   "mimetype": "text/x-python",
   "name": "python",
   "nbconvert_exporter": "python",
   "pygments_lexer": "ipython3",
   "version": "3.12.8"
  }
 },
 "nbformat": 4,
 "nbformat_minor": 5
}
